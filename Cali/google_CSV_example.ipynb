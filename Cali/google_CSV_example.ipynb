{
 "cells": [
  {
   "cell_type": "markdown",
   "metadata": {},
   "source": [
    "# Exemple of Notebook for Cali Workshop\n",
    "<center>\n",
    "    <h1> text with intro </h1>\n",
    "</center>"
   ]
  },
  {
   "cell_type": "code",
   "execution_count": 1,
   "metadata": {},
   "outputs": [],
   "source": [
    "import os\n",
    "import csv\n",
    "import pandas as pd\n",
    "import numpy as np\n",
    "import matplotlib.pyplot as plt\n",
    "from pandas import read_csv\n",
    "from matplotlib import pyplot"
   ]
  },
  {
   "cell_type": "code",
   "execution_count": 2,
   "metadata": {},
   "outputs": [
    {
     "data": {
      "text/plain": [
       "0"
      ]
     },
     "execution_count": 2,
     "metadata": {},
     "output_type": "execute_result"
    }
   ],
   "source": [
    "bashCommand = \"wget https://docs.google.com/spreadsheets/d/1nH8J5PViu8yRVMAY5q3ydS6Onqv5ZOh3tdeM5MP9YQo/export?format=csv -O ages.csv\"\n",
    "os.system(bashCommand)"
   ]
  },
  {
   "cell_type": "code",
   "execution_count": 3,
   "metadata": {},
   "outputs": [],
   "source": [
    "path = 'ages.csv'\n",
    "headers = ['Room','Variable 1','Variable 2']\n",
    "df = pd.read_csv(path)"
   ]
  },
  {
   "cell_type": "code",
   "execution_count": 4,
   "metadata": {},
   "outputs": [],
   "source": [
    "df = df.set_index('Room')"
   ]
  },
  {
   "cell_type": "code",
   "execution_count": 5,
   "metadata": {},
   "outputs": [
    {
     "data": {
      "text/html": [
       "<div>\n",
       "<style scoped>\n",
       "    .dataframe tbody tr th:only-of-type {\n",
       "        vertical-align: middle;\n",
       "    }\n",
       "\n",
       "    .dataframe tbody tr th {\n",
       "        vertical-align: top;\n",
       "    }\n",
       "\n",
       "    .dataframe thead th {\n",
       "        text-align: right;\n",
       "    }\n",
       "</style>\n",
       "<table border=\"1\" class=\"dataframe\">\n",
       "  <thead>\n",
       "    <tr style=\"text-align: right;\">\n",
       "      <th></th>\n",
       "      <th>room1</th>\n",
       "      <th>room2</th>\n",
       "      <th>room3</th>\n",
       "      <th>room4</th>\n",
       "      <th>room5</th>\n",
       "      <th>room6</th>\n",
       "      <th>room7</th>\n",
       "      <th>room8</th>\n",
       "      <th>room9</th>\n",
       "      <th>room10</th>\n",
       "    </tr>\n",
       "    <tr>\n",
       "      <th>Room</th>\n",
       "      <th></th>\n",
       "      <th></th>\n",
       "      <th></th>\n",
       "      <th></th>\n",
       "      <th></th>\n",
       "      <th></th>\n",
       "      <th></th>\n",
       "      <th></th>\n",
       "      <th></th>\n",
       "      <th></th>\n",
       "    </tr>\n",
       "  </thead>\n",
       "  <tbody>\n",
       "    <tr>\n",
       "      <th>Subject A</th>\n",
       "      <td>0</td>\n",
       "      <td>0</td>\n",
       "      <td>420</td>\n",
       "      <td>242</td>\n",
       "      <td>314159265.0</td>\n",
       "      <td>32</td>\n",
       "      <td>123.0</td>\n",
       "      <td>128</td>\n",
       "      <td>256</td>\n",
       "      <td>512</td>\n",
       "    </tr>\n",
       "    <tr>\n",
       "      <th>Subject B</th>\n",
       "      <td>0</td>\n",
       "      <td>0</td>\n",
       "      <td>3</td>\n",
       "      <td>125</td>\n",
       "      <td>5.0</td>\n",
       "      <td>3435</td>\n",
       "      <td>700.0</td>\n",
       "      <td>7445</td>\n",
       "      <td>549</td>\n",
       "      <td>20</td>\n",
       "    </tr>\n",
       "    <tr>\n",
       "      <th>Subject C</th>\n",
       "      <td>0</td>\n",
       "      <td>0</td>\n",
       "      <td>3453</td>\n",
       "      <td>12</td>\n",
       "      <td>65.0</td>\n",
       "      <td>23</td>\n",
       "      <td>25825.0</td>\n",
       "      <td>23</td>\n",
       "      <td>4563</td>\n",
       "      <td>45</td>\n",
       "    </tr>\n",
       "    <tr>\n",
       "      <th>Subject D</th>\n",
       "      <td>0</td>\n",
       "      <td>0</td>\n",
       "      <td>311</td>\n",
       "      <td>3</td>\n",
       "      <td>984.0</td>\n",
       "      <td>6</td>\n",
       "      <td>67.0</td>\n",
       "      <td>11</td>\n",
       "      <td>49</td>\n",
       "      <td>11</td>\n",
       "    </tr>\n",
       "    <tr>\n",
       "      <th>Subject E</th>\n",
       "      <td>0</td>\n",
       "      <td>0</td>\n",
       "      <td>5457</td>\n",
       "      <td>64</td>\n",
       "      <td>86465.0</td>\n",
       "      <td>100</td>\n",
       "      <td>9.0</td>\n",
       "      <td>26</td>\n",
       "      <td>58727527</td>\n",
       "      <td>56</td>\n",
       "    </tr>\n",
       "  </tbody>\n",
       "</table>\n",
       "</div>"
      ],
      "text/plain": [
       "           room1  room2  room3  room4        room5  room6    room7  room8  \\\n",
       "Room                                                                        \n",
       "Subject A      0      0    420    242  314159265.0     32    123.0    128   \n",
       "Subject B      0      0      3    125          5.0   3435    700.0   7445   \n",
       "Subject C      0      0   3453     12         65.0     23  25825.0     23   \n",
       "Subject D      0      0    311      3        984.0      6     67.0     11   \n",
       "Subject E      0      0   5457     64      86465.0    100      9.0     26   \n",
       "\n",
       "              room9  room10  \n",
       "Room                         \n",
       "Subject A       256     512  \n",
       "Subject B       549      20  \n",
       "Subject C      4563      45  \n",
       "Subject D        49      11  \n",
       "Subject E  58727527      56  "
      ]
     },
     "execution_count": 5,
     "metadata": {},
     "output_type": "execute_result"
    }
   ],
   "source": [
    "df.head()"
   ]
  },
  {
   "cell_type": "code",
   "execution_count": 6,
   "metadata": {},
   "outputs": [],
   "source": [
    "ages = df.columns[0:10]"
   ]
  },
  {
   "cell_type": "code",
   "execution_count": 7,
   "metadata": {},
   "outputs": [
    {
     "data": {
      "text/plain": [
       "[<matplotlib.lines.Line2D at 0x7f7d33bb3e48>]"
      ]
     },
     "execution_count": 7,
     "metadata": {},
     "output_type": "execute_result"
    },
    {
     "data": {
      "image/png": "[encoded data removed]",
      "text/plain": [
       "<Figure size 432x288 with 1 Axes>"
      ]
     },
     "metadata": {
      "needs_background": "light"
     },
     "output_type": "display_data"
    }
   ],
   "source": [
    "# plot\n",
    "plt.plot(ages)"
   ]
  },
  {
   "cell_type": "markdown",
   "metadata": {},
   "source": [
    "### More examples in: https://matplotlib.org/users/pyplot_tutorial.html"
   ]
  },
  {
   "cell_type": "code",
   "execution_count": 8,
   "metadata": {},
   "outputs": [
    {
     "data": {
      "text/plain": [
       "<matplotlib.axes._subplots.AxesSubplot at 0x7f7d33b187f0>"
      ]
     },
     "execution_count": 8,
     "metadata": {},
     "output_type": "execute_result"
    },
    {
     "data": {
      "image/png": "[encoded data removed]",
      "text/plain": [
       "<Figure size 432x288 with 1 Axes>"
      ]
     },
     "metadata": {
      "needs_background": "light"
     },
     "output_type": "display_data"
    }
   ],
   "source": [
    "data = read_csv('ages.csv', sep=',')\n",
    "data.plot(x = 1, y = 2)"
   ]
  },
  {
   "cell_type": "code",
   "execution_count": null,
   "metadata": {},
   "outputs": [],
   "source": []
  }
 ],
 "metadata": {
  "kernelspec": {
   "display_name": "Python 3",
   "language": "python",
   "name": "python3"
  },
  "language_info": {
   "codemirror_mode": {
    "name": "ipython",
    "version": 3
   },
   "file_extension": ".py",
   "mimetype": "text/x-python",
   "name": "python",
   "nbconvert_exporter": "python",
   "pygments_lexer": "ipython3",
   "version": "3.6.6"
  }
 },
 "nbformat": 4,
 "nbformat_minor": 2
}
